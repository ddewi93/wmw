{
 "cells": [
  {
   "cell_type": "code",
   "execution_count": 14,
   "id": "d4f17f01",
   "metadata": {},
   "outputs": [
    {
     "name": "stdout",
     "output_type": "stream",
     "text": [
      "RanksumsResult(statistic=35.369335734699646, pvalue=5.057771505978141e-274)\n"
     ]
    }
   ],
   "source": [
    "#rank sum test\n",
    "from scipy import stats\n",
    "import pandas as pd\n",
    "\n",
    "data = pd.read_excel('cleandate-test.xlsx')\n",
    "\n",
    "Sample_web = data[data['subject'] == 4]['subject']\n",
    "Sample_musical = data[data['subject'] == 3]['subject']\n",
    "\n",
    "wilc = stats.ranksums(Sample_web, Sample_musical)\n",
    "print(wilc)#Output would be the p-value\n",
    "\n",
    "#data.head()"
   ]
  },
  {
   "cell_type": "code",
   "execution_count": null,
   "id": "3cdc965b",
   "metadata": {},
   "outputs": [],
   "source": []
  }
 ],
 "metadata": {
  "kernelspec": {
   "display_name": "Python 3 (ipykernel)",
   "language": "python",
   "name": "python3"
  },
  "language_info": {
   "codemirror_mode": {
    "name": "ipython",
    "version": 3
   },
   "file_extension": ".py",
   "mimetype": "text/x-python",
   "name": "python",
   "nbconvert_exporter": "python",
   "pygments_lexer": "ipython3",
   "version": "3.9.12"
  }
 },
 "nbformat": 4,
 "nbformat_minor": 5
}
